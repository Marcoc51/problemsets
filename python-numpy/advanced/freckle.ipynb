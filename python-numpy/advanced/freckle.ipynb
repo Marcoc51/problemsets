{
  "nbformat": 4,
  "nbformat_minor": 0,
  "metadata": {
    "colab": {
      "name": "freckle.ipynb",
      "provenance": [],
      "collapsed_sections": [],
      "include_colab_link": true
    },
    "kernelspec": {
      "name": "python3",
      "display_name": "Python 3"
    },
    "language_info": {
      "name": "python"
    }
  },
  "cells": [
    {
      "cell_type": "markdown",
      "metadata": {
        "id": "view-in-github",
        "colab_type": "text"
      },
      "source": [
        "<a href=\"https://colab.research.google.com/github/practiceprobs/problemsets/blob/main/python-numpy/advanced/freckle.ipynb\" target=\"_parent\"><img src=\"https://colab.research.google.com/assets/colab-badge.svg\" alt=\"Open In Colab\"/></a>"
      ]
    },
    {
      "cell_type": "markdown",
      "source": [
        "[![PracticeProbs](https://d33wubrfki0l68.cloudfront.net/b6800cc830e3fd5a3a4c3d9cfb1137e6a4c15c77/ec467/assets/images/transparent-1.png)](https://www.practiceprobs.com/)"
      ],
      "metadata": {
        "id": "t1VEtnSjbu-d"
      }
    },
    {
      "cell_type": "markdown",
      "source": [
        "# [Freckle](https://www.practiceprobs.com/problemsets/python-numpy/advanced/freckle/)\n",
        "\n",
        "Given a 1-D array called `freckle`,"
      ],
      "metadata": {
        "id": "M6yShpelZy-I"
      }
    },
    {
      "cell_type": "code",
      "source": [
        "import numpy as np\n",
        "freckle = np.array([2,7,3,1,0,5])"
      ],
      "metadata": {
        "id": "ZlHN2R3QaPX3"
      },
      "execution_count": null,
      "outputs": []
    },
    {
      "cell_type": "markdown",
      "source": [
        "perform the following sequence of operations:\n",
        "\n",
        "1. Sort the elements in descending order:\t\n",
        "    `7, 5, 3, 2, 1, 0`\n",
        "    \n",
        "2. Take their cumulative sum:\t\n",
        "    `7, 12, 15, 17, 18, 18`\n",
        "    \n",
        "3. Undo the sort from step 1:\t\n",
        "    `17, 7, 15, 18, 18, 12`"
      ],
      "metadata": {
        "id": "vOLTbQVgoBdb"
      }
    },
    {
      "cell_type": "markdown",
      "source": [
        "---"
      ],
      "metadata": {
        "id": "h7D8d-J5cela"
      }
    },
    {
      "cell_type": "code",
      "source": [
        "# Your brilliant solution here!"
      ],
      "metadata": {
        "id": "CWwTWfYCa4k0"
      },
      "execution_count": null,
      "outputs": []
    },
    {
      "cell_type": "markdown",
      "source": [
        "## [See our solution!](https://www.practiceprobs.com/problemsets/python-numpy/advanced/freckle/solution/)"
      ],
      "metadata": {
        "id": "bF3kvEc4a4It"
      }
    }
  ]
}